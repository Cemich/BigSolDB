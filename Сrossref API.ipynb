{
 "cells": [
  {
   "cell_type": "code",
   "execution_count": 3,
   "id": "369e25af",
   "metadata": {},
   "outputs": [],
   "source": [
    "import pandas as pd\n",
    "import requests\n",
    "from tqdm import tqdm_notebook\n",
    "\n",
    "def get_doi_from_issn(issn, rows=1000):\n",
    "    '''\n",
    "    Function for uploading DOI from api.crossref.org\n",
    "    input: ISNN: [str]\n",
    "    return: DOI: [list]\n",
    "    '''\n",
    "    all_dois = {}\n",
    "    cursor = '*'\n",
    "    d = requests.get(f'https://api.crossref.org/v1/journals/{issn}/works?sort=published&rows={str(rows)}&cursor={cursor}').json()\n",
    "    all_dois.update({i['DOI']:{'title': i['title'][0], \n",
    "                               'year': i['published']['date-parts'][0][0]} for i in d['message']['items']})\n",
    "    total_results = d['message']['total-results']\n",
    "    next_cursor = d['message']['next-cursor']\n",
    "\n",
    "    for i in tqdm_notebook(range(int(total_results/rows))):\n",
    "        d = requests.get(f'https://api.crossref.org/v1/journals/{issn}/works?sort=published&rows=1000&cursor={next_cursor}').json()\n",
    "        next_cursor = d['message']['next-cursor']\n",
    "        try:\n",
    "            all_dois.update({i['DOI']:{'title': i['title'][0], \n",
    "                                       'year': i['published']['date-parts'][0][0]} for i in d['message']['items']})\n",
    "        except:\n",
    "            pass\n",
    "    return all_dois"
   ]
  },
  {
   "cell_type": "code",
   "execution_count": 4,
   "id": "f26d1dff",
   "metadata": {},
   "outputs": [
    {
     "name": "stderr",
     "output_type": "stream",
     "text": [
      "<ipython-input-3-b1b37f670232>:19: TqdmDeprecationWarning: This function will be removed in tqdm==5.0.0\n",
      "Please use `tqdm.notebook.tqdm` instead of `tqdm.tqdm_notebook`\n",
      "  for i in tqdm_notebook(range(int(total_results/rows))):\n"
     ]
    },
    {
     "data": {
      "application/vnd.jupyter.widget-view+json": {
       "model_id": "c94b1841916d47328b06d38046ade622",
       "version_major": 2,
       "version_minor": 0
      },
      "text/plain": [
       "  0%|          | 0/10 [00:00<?, ?it/s]"
      ]
     },
     "metadata": {},
     "output_type": "display_data"
    }
   ],
   "source": [
    "#For example, The Journal of Chemical Thermodynamics\n",
    "issn = '0021-9614'\n",
    "dois = get_doi_from_issn(issn)"
   ]
  },
  {
   "cell_type": "code",
   "execution_count": 5,
   "id": "92bc2a28",
   "metadata": {},
   "outputs": [],
   "source": [
    "solub = {doi:item for doi, item in dois.items() if 'solub' in item['title'].lower()}"
   ]
  },
  {
   "cell_type": "code",
   "execution_count": 6,
   "id": "87f219f2",
   "metadata": {},
   "outputs": [],
   "source": [
    "solub_df = pd.DataFrame({'DOI': list(solub.keys()), \n",
    "                         'Title': [item['title'] for item in list(solub.values())], \n",
    "                         'Year': [item['year'] for item in list(solub.values())]})"
   ]
  }
 ],
 "metadata": {
  "kernelspec": {
   "display_name": "Python 3",
   "language": "python",
   "name": "python3"
  },
  "language_info": {
   "codemirror_mode": {
    "name": "ipython",
    "version": 3
   },
   "file_extension": ".py",
   "mimetype": "text/x-python",
   "name": "python",
   "nbconvert_exporter": "python",
   "pygments_lexer": "ipython3",
   "version": "3.8.8"
  }
 },
 "nbformat": 4,
 "nbformat_minor": 5
}
